{
 "cells": [
  {
   "cell_type": "code",
   "execution_count": 7,
   "id": "307448da",
   "metadata": {},
   "outputs": [
    {
     "name": "stdout",
     "output_type": "stream",
     "text": [
      "Simple numpy variance:  24.4\n",
      "Again the (more exact) variance:  24.399999999999977\n"
     ]
    }
   ],
   "source": [
    "#Calculate the variance of the given stream O = [o1, ..., o5] = [15, 14, 20, 25, 11]\n",
    "import numpy as np\n",
    "my_list = [15, 14, 20, 25, 11]\n",
    "print(\"Simple numpy variance: \",np.var(my_list))\n",
    "#(a) Use the variance formula Var(X) = E(X**2) − E(X)**2\n",
    "\n",
    "#first we need the mean\n",
    "mean = sum(my_list)/len(my_list)\n",
    "\n",
    "#then the mean of the squared numbers\n",
    "mean_squared = sum(x**2 for x in my_list) / len(my_list)\n",
    "\n",
    "#now we can calculate the variance\n",
    "variance = mean_squared - mean**2\n",
    "print(\"Again the (more exact) variance: \", variance)"
   ]
  },
  {
   "cell_type": "code",
   "execution_count": null,
   "id": "dc84ab98",
   "metadata": {},
   "outputs": [
    {
     "name": "stdout",
     "output_type": "stream",
     "text": [
      "Variance for a reference variable a:  24.400000000000006\n"
     ]
    }
   ],
   "source": [
    "#(b) Now use the variance formula Var(X)=E((X−a)**2)−(E(X)−a)**2 with a=10\n",
    "a = 10\n",
    "#first part of the formula\n",
    "part_one = sum((x-a)**2 for x in my_list) /len(my_list)\n",
    "\n",
    "#second part of that formula\n",
    "part_two = (mean -a)**2\n",
    "\n",
    "\n",
    "variance_with_a = part_one - part_two\n",
    "print(\"Variance with displacement law: \",variance_with_a)"
   ]
  }
 ],
 "metadata": {
  "kernelspec": {
   "display_name": "Python 3",
   "language": "python",
   "name": "python3"
  },
  "language_info": {
   "codemirror_mode": {
    "name": "ipython",
    "version": 3
   },
   "file_extension": ".py",
   "mimetype": "text/x-python",
   "name": "python",
   "nbconvert_exporter": "python",
   "pygments_lexer": "ipython3",
   "version": "3.10.8"
  }
 },
 "nbformat": 4,
 "nbformat_minor": 5
}
