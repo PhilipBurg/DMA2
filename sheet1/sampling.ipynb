{
 "cells": [
  {
   "cell_type": "code",
   "execution_count": null,
   "id": "e8c0d3cb",
   "metadata": {},
   "outputs": [
    {
     "name": "stdout",
     "output_type": "stream",
     "text": [
      "Simple Random Sample:  [4, 8, 10, 1]\n"
     ]
    }
   ],
   "source": [
    "#Some probability sampling techniques:\n",
    "# 1)Simple random sampling\n",
    "import random\n",
    "# lets say i have a population of data\n",
    "population = [1, 2, 3, 4, 5, 6, 7, 8, 9, 10]\n",
    "\n",
    "random_sample = random.sample(population, 4)\n",
    "\n",
    "print(\"Simple Random Sample: \", random_sample)"
   ]
  },
  {
   "cell_type": "code",
   "execution_count": 5,
   "id": "0922ccb9",
   "metadata": {},
   "outputs": [
    {
     "name": "stdout",
     "output_type": "stream",
     "text": [
      "Systematic sample:  [2, 4, 6, 8, 10]\n"
     ]
    }
   ],
   "source": [
    "# 2)Systematic sampling\n",
    "# suppose i have a population of data again\n",
    "population = [1, 2, 3, 4, 5, 6, 7, 8, 9, 10]\n",
    "\n",
    "# now define the sampling interval\n",
    "k = 2\n",
    "\n",
    "# choose a random start index\n",
    "start_index = random.randint(0, k-1)\n",
    "\n",
    "# then perform systematic sampling\n",
    "sys_sample = population[start_index::k]\n",
    "\n",
    "print(\"Systematic sample: \", sys_sample)"
   ]
  },
  {
   "cell_type": "code",
   "execution_count": 7,
   "id": "219681a5",
   "metadata": {},
   "outputs": [
    {
     "name": "stdout",
     "output_type": "stream",
     "text": [
      "Cluster Sample: [10, 11, 12, 7, 8, 9]\n"
     ]
    }
   ],
   "source": [
    "# 3) Cluster sampling\n",
    "# suppose i have a dataset with individuals which are grouped into clusters\n",
    "clusters = {\n",
    "    'Cluster 1': [1,2,3],\n",
    "    'Cluster 2': [4,5,6],\n",
    "    'Cluster 3': [7,8,9],\n",
    "    'Cluster 4': [10,11,12]\n",
    "}\n",
    "# now choose a random subset of clusters\n",
    "sampled_clusters = random.sample(list(clusters.keys()), 2)\n",
    "\n",
    "# extract the individuals from the sampled clusters\n",
    "cluster_sample = []\n",
    "for cluster in sampled_clusters:\n",
    "    cluster_sample.extend(clusters[cluster])\n",
    "\n",
    "print(\"Cluster Sample:\", cluster_sample)"
   ]
  }
 ],
 "metadata": {
  "kernelspec": {
   "display_name": "myvenv",
   "language": "python",
   "name": "python3"
  },
  "language_info": {
   "codemirror_mode": {
    "name": "ipython",
    "version": 3
   },
   "file_extension": ".py",
   "mimetype": "text/x-python",
   "name": "python",
   "nbconvert_exporter": "python",
   "pygments_lexer": "ipython3",
   "version": "3.9.12"
  }
 },
 "nbformat": 4,
 "nbformat_minor": 5
}
